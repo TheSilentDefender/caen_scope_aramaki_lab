{
 "cells": [
  {
   "cell_type": "code",
   "id": "initial_id",
   "metadata": {
    "collapsed": true,
    "ExecuteTime": {
     "end_time": "2024-10-30T16:21:52.576101Z",
     "start_time": "2024-10-30T16:21:52.572229Z"
    }
   },
   "source": [
    "from fontTools.misc.cython import returns\n",
    "%matplotlib inline\n",
    "import numpy as np\n",
    "from matplotlib import pyplot as plt\n",
    "import pandas as pd\n",
    "\n",
    "from caen_felib import device, lib\n",
    "import pickle\n",
    "\n",
    "# Get CAEN FELib path\n",
    "print(f'CAEN FELib found at: {lib.path} (version={lib.version})')\n",
    "\n",
    "\n",
    "def save_waveforms(event_num, timestamp, sampling_rate, time_resolution, waveforms):\n",
    "\twith open('raw.bin', 'ab') as f:\n",
    "\t\tf.write(struct.pack('I', event_num))\n",
    "\t\tf.write(struct.pack('Q', timestamp))\n",
    "\t\tf.write(struct.pack('I', sampling_rate))\n",
    "\t\tf.write(struct.pack('Q', time_resolution))\n",
    "\n",
    "\t\tfor waveform in waveforms:\n",
    "\t\t\tfor point in waveform:\n",
    "\t\t\t\tf.write(struct.pack('f', point))\n",
    "                \n",
    "                \n",
    "def startACQ(n):\n",
    "\tdig.cmd.ArmAcquisition()\n",
    "\tdig.cmd.SwStartAcquisition()\n",
    "\t\n",
    "\tevent_nums = []\n",
    "\twaveforms = []\n",
    "\ttimestamps = []\n",
    "\twaveform_sizes = []\n",
    "\n",
    "\tfor i in range(n):\n",
    "\t\tdig.cmd.SendSwTrigger()\n",
    "\t\tdig.endpoint.scope.read_data(-1, data)\n",
    "\t\twaveforms.append(waveform)\n",
    "\t\ttimestamps.append(timestamp)\n",
    "\t\twaveform_sizes.append(waveform_size)\n",
    "\n",
    "\tdig.cmd.DisarmAcquisition()\n",
    "    return waveforms, timestamps, waveform_sizes"
   ],
   "outputs": [
    {
     "name": "stdout",
     "output_type": "stream",
     "text": [
      "CAEN FELib found at: libCAEN_FELib.so (version=1.3.1)\n"
     ]
    }
   ],
   "execution_count": 3
  },
  {
   "metadata": {
    "ExecuteTime": {
     "end_time": "2024-10-29T17:31:18.058538Z",
     "start_time": "2024-10-29T17:31:17.972823Z"
    }
   },
   "cell_type": "code",
   "source": [
    "dig = device.connect('dig2://caen.internal/usb/51054')\n",
    "\n",
    "print(f'Connected to digitizer (handle={hex(dig.handle)}, name={dig.name})')"
   ],
   "id": "8b505fdcfe277ebc",
   "outputs": [
    {
     "name": "stdout",
     "output_type": "stream",
     "text": [
      "Connected to digitizer (handle=0xcae0000000000000, name=)\n"
     ]
    }
   ],
   "execution_count": 123
  },
  {
   "metadata": {
    "ExecuteTime": {
     "end_time": "2024-10-29T17:31:18.126646Z",
     "start_time": "2024-10-29T17:31:18.089444Z"
    }
   },
   "cell_type": "code",
   "source": [
    "n_ch = int(dig.par.NUMCH.value)\n",
    "adc_samplrate_msps = float(dig.par.ADC_SAMPLRATE.value)  # in Msps\n",
    "adc_n_bits = int(dig.par.ADC_NBIT.value)\n",
    "sampling_period_ns = int(1e3 / adc_samplrate_msps)\n",
    "fw_type = dig.par.FWTYPE.value\n",
    "print(f'Number of channels: {n_ch}, ADC sampling rate: {adc_samplrate_msps} Msps, ADC resolution: {adc_n_bits} bits, sampling period: {sampling_period_ns} ns, firmware type: {fw_type}')"
   ],
   "id": "4e2c83cde77c21bd",
   "outputs": [
    {
     "name": "stdout",
     "output_type": "stream",
     "text": [
      "Number of channels: 64, ADC sampling rate: 125.0 Msps, ADC resolution: 16 bits, sampling period: 8 ns, firmware type: Scope\n"
     ]
    }
   ],
   "execution_count": 124
  },
  {
   "metadata": {
    "ExecuteTime": {
     "end_time": "2024-10-29T17:31:18.931477Z",
     "start_time": "2024-10-29T17:31:18.147866Z"
    }
   },
   "cell_type": "code",
   "source": [
    "# Configuration parameters\n",
    "reclen_ns = 300000  # in ns\n",
    "pretrg_ns = 16336  # in ns\n",
    "\n",
    "# Configure digitizer\n",
    "dig.par.RECORDLENGTHT.value = f'{reclen_ns}'\n",
    "dig.par.PRETRIGGERT.value = f'{pretrg_ns}'\n",
    "dig.par.AcqTriggerSource.value = 'SwTrg'\n",
    "\n",
    "\n",
    "for ch in dig.ch:\n",
    "\tch.par.DCOffset.value = f'50'\n",
    "\n",
    "data_format = [\n",
    "\t{\n",
    "\t\t'name': 'TIMESTAMP',\n",
    "\t\t'type': 'U64',\n",
    "\t},\n",
    "\t{\n",
    "\t\t'name': 'WAVEFORM',\n",
    "\t\t'type': 'U16',\n",
    "\t\t'dim': 2,\n",
    "\t\t'shape': [n_ch, reclen_ns],\n",
    "\t},\n",
    "\t{\n",
    "\t\t'name': 'WAVEFORM_SIZE',\n",
    "\t\t'type': 'U64',\n",
    "\t\t'dim': 1,\n",
    "\t\t'shape': [n_ch],\n",
    "\t},\n",
    "]\n",
    "\n",
    "data = dig.endpoint.scope.set_read_data_format(data_format)\n",
    "timestamp = data[0].value\n",
    "waveform = data[1].value\n",
    "waveform_size = data[2].value\n",
    "\n",
    "dig.endpoint.par.ActiveEndpoint.value = 'scope'"
   ],
   "id": "e3fdb8cad531b8ac",
   "outputs": [],
   "execution_count": 125
  },
  {
   "metadata": {
    "ExecuteTime": {
     "end_time": "2024-10-29T17:31:35.008290Z",
     "start_time": "2024-10-29T17:31:34.509478Z"
    }
   },
   "cell_type": "code",
   "source": "startACQ(100)",
   "id": "6cd2caa0d8a2da48",
   "outputs": [],
   "execution_count": 130
  }
 ],
 "metadata": {
  "kernelspec": {
   "display_name": "Python 3",
   "language": "python",
   "name": "python3"
  },
  "language_info": {
   "codemirror_mode": {
    "name": "ipython",
    "version": 2
   },
   "file_extension": ".py",
   "mimetype": "text/x-python",
   "name": "python",
   "nbconvert_exporter": "python",
   "pygments_lexer": "ipython2",
   "version": "2.7.6"
  }
 },
 "nbformat": 4,
 "nbformat_minor": 5
}
