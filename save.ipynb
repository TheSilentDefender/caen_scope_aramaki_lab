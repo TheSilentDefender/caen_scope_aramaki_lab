{
 "cells": [
  {
   "cell_type": "code",
   "id": "initial_id",
   "metadata": {
    "collapsed": true,
    "ExecuteTime": {
     "end_time": "2024-10-30T15:21:23.550254Z",
     "start_time": "2024-10-30T15:21:23.252513Z"
    }
   },
   "source": [
    "import pickle\n",
    "import struct\n",
    "\n",
    "import numpy as np\n",
    "import pandas as pd\n",
    "import os"
   ],
   "outputs": [],
   "execution_count": 2
  },
  {
   "metadata": {
    "ExecuteTime": {
     "end_time": "2024-10-30T15:26:38.195143Z",
     "start_time": "2024-10-30T15:26:38.186858Z"
    }
   },
   "cell_type": "code",
   "source": [
    "with open('waveforms.pkl', 'rb') as f:\n",
    "\te = pickle.load(f)"
   ],
   "id": "9af60049d53a87fb",
   "outputs": [
    {
     "ename": "EOFError",
     "evalue": "Ran out of input",
     "output_type": "error",
     "traceback": [
      "\u001B[0;31m---------------------------------------------------------------------------\u001B[0m",
      "\u001B[0;31mEOFError\u001B[0m                                  Traceback (most recent call last)",
      "Cell \u001B[0;32mIn[10], line 2\u001B[0m\n\u001B[1;32m      1\u001B[0m \u001B[38;5;28;01mwith\u001B[39;00m \u001B[38;5;28mopen\u001B[39m(\u001B[38;5;124m'\u001B[39m\u001B[38;5;124mwaveforms.pkl\u001B[39m\u001B[38;5;124m'\u001B[39m, \u001B[38;5;124m'\u001B[39m\u001B[38;5;124mrb\u001B[39m\u001B[38;5;124m'\u001B[39m) \u001B[38;5;28;01mas\u001B[39;00m f:\n\u001B[0;32m----> 2\u001B[0m \te \u001B[38;5;241m=\u001B[39m \u001B[43mpickle\u001B[49m\u001B[38;5;241;43m.\u001B[39;49m\u001B[43mload\u001B[49m\u001B[43m(\u001B[49m\u001B[43mf\u001B[49m\u001B[43m)\u001B[49m\n",
      "\u001B[0;31mEOFError\u001B[0m: Ran out of input"
     ]
    }
   ],
   "execution_count": 10
  },
  {
   "metadata": {},
   "cell_type": "code",
   "outputs": [],
   "execution_count": null,
   "source": [
    "def save_waveforms(event_num, timestamp, sampling_rate, time_resolution, waveforms):\n",
    "\twith open('raw.bin', 'ab') as f:\n",
    "\t\tf.write(struct.pack('I', event_num))\n",
    "        f.write(struct.pack('Q', timestamp))\n",
    "        f.write(struct.pack('I', sampling_rate))\n",
    "        f.write(struct.pack('Q', time_resolution))\n",
    "        \n",
    "        for waveform in waveforms:\n",
    "\t\t\tfor point in waveform:\n",
    "\t\t\t\tf.write(struct.pack('f', point))\n",
    "                \n"
   ],
   "id": "50af71052d4347e2"
  }
 ],
 "metadata": {
  "kernelspec": {
   "display_name": "Python 3",
   "language": "python",
   "name": "python3"
  },
  "language_info": {
   "codemirror_mode": {
    "name": "ipython",
    "version": 2
   },
   "file_extension": ".py",
   "mimetype": "text/x-python",
   "name": "python",
   "nbconvert_exporter": "python",
   "pygments_lexer": "ipython2",
   "version": "2.7.6"
  }
 },
 "nbformat": 4,
 "nbformat_minor": 5
}
